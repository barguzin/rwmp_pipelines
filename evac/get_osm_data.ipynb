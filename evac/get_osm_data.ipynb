{
 "cells": [
  {
   "cell_type": "code",
   "execution_count": 18,
   "metadata": {},
   "outputs": [],
   "source": [
    "import geopandas as gpd \n",
    "import numpy as np"
   ]
  },
  {
   "cell_type": "code",
   "execution_count": 36,
   "metadata": {},
   "outputs": [
    {
     "name": "stdout",
     "output_type": "stream",
     "text": [
      "opened file with shape: (1, 14)\n"
     ]
    }
   ],
   "source": [
    "def prep_poly_geom(path_open, path_save, hull=False): \n",
    "    '''\n",
    "    Opens a shapefile with a polygon boundary \n",
    "    and saves wkt_geom to text file \n",
    "\n",
    "    IMPORTANT: the feature class must only have one feature (shape)! \n",
    "\n",
    "    args:\n",
    "        path_open - str - dir with a shapefile \n",
    "        path_save - str - dir to save the txt to \n",
    "    '''\n",
    "\n",
    "    gdf = gpd.read_file(path_open) \n",
    "    print('opened file with shape:', gdf.shape)\n",
    "\n",
    "    # check if there is only one feazture in the data\n",
    "    assert gdf.shape[0] == 1, \"Feature class contains more than ONE geometry\" \n",
    "\n",
    "    # reproject to pseudo merc \n",
    "    #gdf = gdf.to_crs('epsg:3857')\n",
    "\n",
    "    if hull: \n",
    "        geom = gdf.geometry.convex_hull.to_wkt()\n",
    "    else: \n",
    "        # simplify to 100 meters\n",
    "        geom = gdf.geometry.simplify(0.000009).to_wkt()\n",
    "    \n",
    "    # print(type(geom))\n",
    "\n",
    "    # reproject back to GCS\n",
    "    # gdf = gdf.to_crs('epsg:4326')\n",
    "\n",
    "    text = geom[0]\n",
    "    #print(text[0])\n",
    "    #print(type(text))\n",
    "    \n",
    "    with open(path_save, 'w') as f: \n",
    "        f.write(text)\n",
    "        f.close()\n",
    "\n",
    "\n",
    "if __name__=='__main__': \n",
    "    path_open = 'C:/Users/barguzin/Documents/Github/rwmp_pipelines/rwmp_study_area.geojson'\n",
    "    path_save = 'C:/Users/barguzin/Documents/Github/rwmp_pipelines/rwmp_study_area.txt'\n",
    "    prep_poly_geom(path_open, path_save, hull=True)"
   ]
  },
  {
   "cell_type": "code",
   "execution_count": 21,
   "metadata": {},
   "outputs": [],
   "source": [
    "gdf = gpd.read_file('C:/Users/barguzin/Documents/Github/rwmp_pipelines/rwmp_study_area.geojson')"
   ]
  },
  {
   "cell_type": "code",
   "execution_count": 30,
   "metadata": {},
   "outputs": [
    {
     "data": {
      "text/plain": [
       "str"
      ]
     },
     "execution_count": 30,
     "metadata": {},
     "output_type": "execute_result"
    }
   ],
   "source": [
    "x  = gdf.geometry.to_wkt()\n",
    "type(x[0])"
   ]
  },
  {
   "cell_type": "code",
   "execution_count": 69,
   "metadata": {},
   "outputs": [],
   "source": [
    "# import shapely.wkt \n",
    "\n",
    "# shp = shapely.wkt.loads(x[0])\n",
    "\n",
    "# for i in shp.geoms:\n",
    "#     print(list(i.exterior.coords))"
   ]
  },
  {
   "cell_type": "code",
   "execution_count": 70,
   "metadata": {},
   "outputs": [],
   "source": [
    "import re"
   ]
  },
  {
   "cell_type": "code",
   "execution_count": 73,
   "metadata": {},
   "outputs": [],
   "source": [
    "# s = x[0].split()\n",
    "# for _ in s: \n",
    "#     if _.isdigit():\n",
    "#         print(_)"
   ]
  },
  {
   "cell_type": "code",
   "execution_count": 114,
   "metadata": {},
   "outputs": [],
   "source": [
    "coords = re.findall(r'-?\\d+\\.\\d+', x[0])\n",
    "\n",
    "lng, lat = [],[]\n",
    "reversed = []\n",
    "flat = []\n",
    "\n",
    "for i in coords:\n",
    "    #print(type(float(i)))\n",
    "    if float(i)<0:\n",
    "        lng.append(i)\n",
    "    else: \n",
    "        lat.append(i)\n",
    "\n",
    "for i,j in zip(lng,lat): \n",
    "    reversed.append([j,i])\n",
    "\n",
    "flat = [item for sublist in reversed for item in sublist]\n",
    "\n",
    "s = ' '.join(flat) "
   ]
  },
  {
   "cell_type": "code",
   "execution_count": null,
   "metadata": {},
   "outputs": [],
   "source": [
    "def wkt_to_api(wkt):\n",
    "    '''\n",
    "    Converts a string with wkt geometry to polygon coordinates \n",
    "    suitable for calls to Overpass API \n",
    "\n",
    "    Args: \n",
    "        wkt - str - wkt geometry from geopandas / pygeos \n",
    "    '''\n",
    "\n",
    "    coords = re.findall(r'-?\\d+\\.\\d+', x[0])\n",
    "\n",
    "    lng, lat = [],[]\n",
    "    reversed = []\n",
    "    flat = []\n",
    "\n",
    "    for i in coords:\n",
    "        #print(type(float(i)))\n",
    "        if float(i)<0:\n",
    "            lng.append(i)\n",
    "        else: \n",
    "            lat.append(i)\n",
    "\n",
    "    for i,j in zip(lng,lat): \n",
    "        reversed.append([j,i])\n",
    "\n",
    "    flat = [item for sublist in reversed for item in sublist]\n",
    "\n",
    "    s = ' '.join(flat) \n",
    "\n",
    "    return s\n",
    "\n",
    "    "
   ]
  }
 ],
 "metadata": {
  "kernelspec": {
   "display_name": "Python 3.8.13 ('geo_env')",
   "language": "python",
   "name": "python3"
  },
  "language_info": {
   "codemirror_mode": {
    "name": "ipython",
    "version": 3
   },
   "file_extension": ".py",
   "mimetype": "text/x-python",
   "name": "python",
   "nbconvert_exporter": "python",
   "pygments_lexer": "ipython3",
   "version": "3.8.13"
  },
  "orig_nbformat": 4,
  "vscode": {
   "interpreter": {
    "hash": "a852670a4ed5a2fe20e0fe667ae5e87ee9834eddb60fadcef5ba67e1b565fa95"
   }
  }
 },
 "nbformat": 4,
 "nbformat_minor": 2
}
