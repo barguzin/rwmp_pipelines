{
 "cells": [
  {
   "cell_type": "code",
   "execution_count": 4,
   "metadata": {},
   "outputs": [],
   "source": [
    "import geopandas as gpd\n",
    "import sumolib"
   ]
  },
  {
   "cell_type": "code",
   "execution_count": 13,
   "metadata": {},
   "outputs": [
    {
     "name": "stdout",
     "output_type": "stream",
     "text": [
      "epsg:4326\n",
      "(1282, 6)\n"
     ]
    }
   ],
   "source": [
    "# read the buildings \n",
    "bld = gpd.read_file('C:/Users/barguzin/Documents/Github/rwmp_pipelines/resid_centr_mc.geojson')\n",
    "print(bld.crs)\n",
    "print(bld.shape)\n",
    "\n",
    "# parse the net\n",
    "net = sumolib.net.readNet('C:/Users/barguzin/Documents/Github/rwmp_pipelines/study_area.net.xml')"
   ]
  },
  {
   "cell_type": "code",
   "execution_count": 23,
   "metadata": {},
   "outputs": [],
   "source": [
    "all_dist = []\n",
    "all_edges = []\n",
    "\n",
    "lng, lat = bld.geometry.x, bld.geometry.y \n",
    "\n",
    "radius=50 # meters\n",
    "\n",
    "xlon, xlat = net.convertLonLat2XY(lng, lat)\n",
    "\n",
    "for x,y in zip(xlon, xlat): \n",
    "    edges = net.getNeighboringEdges(x, y, radius)\n",
    "\n",
    "    if len(edges) > 0: \n",
    "        distancesAndEdges = sorted([(dist, edge) for edge, dist in edges], key=lambda x: x[0])\n",
    "        dist, closestEdge = distancesAndEdges[0]\n",
    "\n",
    "        all_dist.append(dist)\n",
    "        all_edges.append(closestEdge)\n",
    "        all_ids.append(closestEdge.getID())"
   ]
  },
  {
   "cell_type": "code",
   "execution_count": 24,
   "metadata": {},
   "outputs": [
    {
     "name": "stdout",
     "output_type": "stream",
     "text": [
      "(1282, 6)\n",
      "1242\n",
      "1242\n"
     ]
    }
   ],
   "source": [
    "print(bld.shape)\n",
    "print(len(all_dist))\n",
    "print(len(all_edges))"
   ]
  },
  {
   "cell_type": "code",
   "execution_count": 25,
   "metadata": {},
   "outputs": [
    {
     "name": "stdout",
     "output_type": "stream",
     "text": [
      "[<edge id=\"-16262970#1\" from=\"165437782\" to=\"165476353\"/>, <edge id=\"-678722520\" from=\"6355141679\" to=\"6355141889\"/>, <edge id=\"-679909983#0\" from=\"6366185189\" to=\"6366185191\"/>, <edge id=\"-679909981\" from=\"6366185189\" to=\"6366184872\"/>, <edge id=\"16253433#2\" from=\"566126288\" to=\"6355141622\"/>]\n"
     ]
    }
   ],
   "source": [
    "print(all_edges[:5])"
   ]
  },
  {
   "cell_type": "code",
   "execution_count": 30,
   "metadata": {},
   "outputs": [
    {
     "name": "stdout",
     "output_type": "stream",
     "text": [
      "<edge id=\"924683558\" from=\"8581835023\" to=\"8581835028\"/>\n"
     ]
    },
    {
     "data": {
      "text/plain": [
       "'924683558'"
      ]
     },
     "execution_count": 30,
     "metadata": {},
     "output_type": "execute_result"
    }
   ],
   "source": [
    "print(closestEdge)\n",
    "closestEdge.getID()"
   ]
  },
  {
   "cell_type": "code",
   "execution_count": null,
   "metadata": {},
   "outputs": [],
   "source": []
  }
 ],
 "metadata": {
  "kernelspec": {
   "display_name": "Python 3.8.13 ('geo_env')",
   "language": "python",
   "name": "python3"
  },
  "language_info": {
   "codemirror_mode": {
    "name": "ipython",
    "version": 3
   },
   "file_extension": ".py",
   "mimetype": "text/x-python",
   "name": "python",
   "nbconvert_exporter": "python",
   "pygments_lexer": "ipython3",
   "version": "3.8.13"
  },
  "orig_nbformat": 4,
  "vscode": {
   "interpreter": {
    "hash": "a852670a4ed5a2fe20e0fe667ae5e87ee9834eddb60fadcef5ba67e1b565fa95"
   }
  }
 },
 "nbformat": 4,
 "nbformat_minor": 2
}
