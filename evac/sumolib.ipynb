{
 "cells": [
  {
   "cell_type": "code",
   "execution_count": 4,
   "metadata": {},
   "outputs": [],
   "source": [
    "import geopandas as gpd\n",
    "import sumolib"
   ]
  },
  {
   "cell_type": "code",
   "execution_count": 13,
   "metadata": {},
   "outputs": [
    {
     "name": "stdout",
     "output_type": "stream",
     "text": [
      "epsg:4326\n",
      "(1282, 6)\n"
     ]
    }
   ],
   "source": [
    "# read the buildings \n",
    "bld = gpd.read_file('C:/Users/barguzin/Documents/Github/rwmp_pipelines/resid_centr_mc.geojson')\n",
    "print(bld.crs)\n",
    "print(bld.shape)\n",
    "\n",
    "# parse the net\n",
    "net = sumolib.net.readNet('C:/Users/barguzin/Documents/Github/rwmp_pipelines/study_area.net.xml')"
   ]
  },
  {
   "cell_type": "code",
   "execution_count": 32,
   "metadata": {},
   "outputs": [],
   "source": [
    "all_dist = []\n",
    "all_edges = []\n",
    "all_ids = []\n",
    "\n",
    "lng, lat = bld.geometry.x, bld.geometry.y \n",
    "\n",
    "radius=50 # meters\n",
    "\n",
    "xlon, xlat = net.convertLonLat2XY(lng, lat)\n",
    "\n",
    "for x,y in zip(xlon, xlat): \n",
    "    edges = net.getNeighboringEdges(x, y, radius)\n",
    "\n",
    "    if len(edges) > 0: \n",
    "        distancesAndEdges = sorted([(dist, edge) for edge, dist in edges], key=lambda x: x[0])\n",
    "        dist, closestEdge = distancesAndEdges[0]\n",
    "\n",
    "        all_dist.append(dist)\n",
    "        all_edges.append(closestEdge)\n",
    "        all_ids.append(closestEdge.getID())"
   ]
  },
  {
   "cell_type": "code",
   "execution_count": 24,
   "metadata": {},
   "outputs": [
    {
     "name": "stdout",
     "output_type": "stream",
     "text": [
      "(1282, 6)\n",
      "1242\n",
      "1242\n"
     ]
    }
   ],
   "source": [
    "print(bld.shape)\n",
    "print(len(all_dist))\n",
    "print(len(all_edges))"
   ]
  },
  {
   "cell_type": "code",
   "execution_count": 25,
   "metadata": {},
   "outputs": [
    {
     "name": "stdout",
     "output_type": "stream",
     "text": [
      "[<edge id=\"-16262970#1\" from=\"165437782\" to=\"165476353\"/>, <edge id=\"-678722520\" from=\"6355141679\" to=\"6355141889\"/>, <edge id=\"-679909983#0\" from=\"6366185189\" to=\"6366185191\"/>, <edge id=\"-679909981\" from=\"6366185189\" to=\"6366184872\"/>, <edge id=\"16253433#2\" from=\"566126288\" to=\"6355141622\"/>]\n"
     ]
    }
   ],
   "source": [
    "print(all_edges[:5])"
   ]
  },
  {
   "cell_type": "code",
   "execution_count": 30,
   "metadata": {},
   "outputs": [
    {
     "name": "stdout",
     "output_type": "stream",
     "text": [
      "<edge id=\"924683558\" from=\"8581835023\" to=\"8581835028\"/>\n"
     ]
    },
    {
     "data": {
      "text/plain": [
       "'924683558'"
      ]
     },
     "execution_count": 30,
     "metadata": {},
     "output_type": "execute_result"
    }
   ],
   "source": [
    "print(closestEdge)\n",
    "closestEdge.getID()"
   ]
  },
  {
   "cell_type": "code",
   "execution_count": 38,
   "metadata": {},
   "outputs": [
    {
     "data": {
      "text/html": [
       "<div>\n",
       "<style scoped>\n",
       "    .dataframe tbody tr th:only-of-type {\n",
       "        vertical-align: middle;\n",
       "    }\n",
       "\n",
       "    .dataframe tbody tr th {\n",
       "        vertical-align: top;\n",
       "    }\n",
       "\n",
       "    .dataframe thead th {\n",
       "        text-align: right;\n",
       "    }\n",
       "</style>\n",
       "<table border=\"1\" class=\"dataframe\">\n",
       "  <thead>\n",
       "    <tr style=\"text-align: right;\">\n",
       "      <th></th>\n",
       "      <th>id</th>\n",
       "      <th>dist</th>\n",
       "      <th>from_to</th>\n",
       "    </tr>\n",
       "  </thead>\n",
       "  <tbody>\n",
       "    <tr>\n",
       "      <th>0</th>\n",
       "      <td>-16262970#1</td>\n",
       "      <td>16.347742</td>\n",
       "      <td>&lt;edge id=\"-16262970#1\" from=\"165437782\" to=\"16...</td>\n",
       "    </tr>\n",
       "    <tr>\n",
       "      <th>1</th>\n",
       "      <td>-678722520</td>\n",
       "      <td>11.383053</td>\n",
       "      <td>&lt;edge id=\"-678722520\" from=\"6355141679\" to=\"63...</td>\n",
       "    </tr>\n",
       "    <tr>\n",
       "      <th>2</th>\n",
       "      <td>-679909983#0</td>\n",
       "      <td>10.340639</td>\n",
       "      <td>&lt;edge id=\"-679909983#0\" from=\"6366185189\" to=\"...</td>\n",
       "    </tr>\n",
       "    <tr>\n",
       "      <th>3</th>\n",
       "      <td>-679909981</td>\n",
       "      <td>7.984477</td>\n",
       "      <td>&lt;edge id=\"-679909981\" from=\"6366185189\" to=\"63...</td>\n",
       "    </tr>\n",
       "    <tr>\n",
       "      <th>4</th>\n",
       "      <td>16253433#2</td>\n",
       "      <td>22.724856</td>\n",
       "      <td>&lt;edge id=\"16253433#2\" from=\"566126288\" to=\"635...</td>\n",
       "    </tr>\n",
       "    <tr>\n",
       "      <th>...</th>\n",
       "      <td>...</td>\n",
       "      <td>...</td>\n",
       "      <td>...</td>\n",
       "    </tr>\n",
       "    <tr>\n",
       "      <th>1237</th>\n",
       "      <td>924683558</td>\n",
       "      <td>8.126412</td>\n",
       "      <td>&lt;edge id=\"924683558\" from=\"8581835023\" to=\"858...</td>\n",
       "    </tr>\n",
       "    <tr>\n",
       "      <th>1238</th>\n",
       "      <td>-886568238#1</td>\n",
       "      <td>37.294320</td>\n",
       "      <td>&lt;edge id=\"-886568238#1\" from=\"8563538342\" to=\"...</td>\n",
       "    </tr>\n",
       "    <tr>\n",
       "      <th>1239</th>\n",
       "      <td>-627887422#3</td>\n",
       "      <td>36.524892</td>\n",
       "      <td>&lt;edge id=\"-627887422#3\" from=\"165621894\" to=\"1...</td>\n",
       "    </tr>\n",
       "    <tr>\n",
       "      <th>1240</th>\n",
       "      <td>-922463717</td>\n",
       "      <td>20.488067</td>\n",
       "      <td>&lt;edge id=\"-922463717\" from=\"8563538343\" to=\"85...</td>\n",
       "    </tr>\n",
       "    <tr>\n",
       "      <th>1241</th>\n",
       "      <td>924683558</td>\n",
       "      <td>22.853524</td>\n",
       "      <td>&lt;edge id=\"924683558\" from=\"8581835023\" to=\"858...</td>\n",
       "    </tr>\n",
       "  </tbody>\n",
       "</table>\n",
       "<p>1242 rows × 3 columns</p>\n",
       "</div>"
      ],
      "text/plain": [
       "                id       dist  \\\n",
       "0      -16262970#1  16.347742   \n",
       "1       -678722520  11.383053   \n",
       "2     -679909983#0  10.340639   \n",
       "3       -679909981   7.984477   \n",
       "4       16253433#2  22.724856   \n",
       "...            ...        ...   \n",
       "1237     924683558   8.126412   \n",
       "1238  -886568238#1  37.294320   \n",
       "1239  -627887422#3  36.524892   \n",
       "1240    -922463717  20.488067   \n",
       "1241     924683558  22.853524   \n",
       "\n",
       "                                                from_to  \n",
       "0     <edge id=\"-16262970#1\" from=\"165437782\" to=\"16...  \n",
       "1     <edge id=\"-678722520\" from=\"6355141679\" to=\"63...  \n",
       "2     <edge id=\"-679909983#0\" from=\"6366185189\" to=\"...  \n",
       "3     <edge id=\"-679909981\" from=\"6366185189\" to=\"63...  \n",
       "4     <edge id=\"16253433#2\" from=\"566126288\" to=\"635...  \n",
       "...                                                 ...  \n",
       "1237  <edge id=\"924683558\" from=\"8581835023\" to=\"858...  \n",
       "1238  <edge id=\"-886568238#1\" from=\"8563538342\" to=\"...  \n",
       "1239  <edge id=\"-627887422#3\" from=\"165621894\" to=\"1...  \n",
       "1240  <edge id=\"-922463717\" from=\"8563538343\" to=\"85...  \n",
       "1241  <edge id=\"924683558\" from=\"8581835023\" to=\"858...  \n",
       "\n",
       "[1242 rows x 3 columns]"
      ]
     },
     "execution_count": 38,
     "metadata": {},
     "output_type": "execute_result"
    }
   ],
   "source": [
    "import pandas as pd\n",
    "\n",
    "df = pd.DataFrame(list(zip(all_ids, all_dist, all_edges)), columns=['id', 'dist', 'from_to'])\n",
    "df"
   ]
  },
  {
   "cell_type": "code",
   "execution_count": null,
   "metadata": {},
   "outputs": [],
   "source": [
    "# to generate traffic from OD in SUMO \n",
    "# Prep inputs: TAZ and OD cost matrix\n",
    "\n",
    "# TAZ\n",
    "# 1. import shapes (primary highways buffer) via 'polyconvert' tool (These are TAZs)\n",
    "# 2. assign edges to TAZ () via 'edgesInDistrict.py'\n",
    "\n",
    "# OD \n",
    "# 1. create routes "
   ]
  }
 ],
 "metadata": {
  "kernelspec": {
   "display_name": "Python 3.8.13 ('geo_env')",
   "language": "python",
   "name": "python3"
  },
  "language_info": {
   "codemirror_mode": {
    "name": "ipython",
    "version": 3
   },
   "file_extension": ".py",
   "mimetype": "text/x-python",
   "name": "python",
   "nbconvert_exporter": "python",
   "pygments_lexer": "ipython3",
   "version": "3.8.13"
  },
  "orig_nbformat": 4,
  "vscode": {
   "interpreter": {
    "hash": "a852670a4ed5a2fe20e0fe667ae5e87ee9834eddb60fadcef5ba67e1b565fa95"
   }
  }
 },
 "nbformat": 4,
 "nbformat_minor": 2
}
